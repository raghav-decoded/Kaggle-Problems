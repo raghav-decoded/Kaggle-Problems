{
 "cells": [
  {
   "cell_type": "code",
   "execution_count": 1,
   "id": "20f5ac6e",
   "metadata": {
    "_cell_guid": "b1076dfc-b9ad-4769-8c92-a6c4dae69d19",
    "_uuid": "8f2839f25d086af736a60e9eeb907d3b93b6e0e5",
    "execution": {
     "iopub.execute_input": "2023-06-05T17:32:51.117035Z",
     "iopub.status.busy": "2023-06-05T17:32:51.116344Z",
     "iopub.status.idle": "2023-06-05T17:32:51.130561Z",
     "shell.execute_reply": "2023-06-05T17:32:51.129544Z"
    },
    "papermill": {
     "duration": 0.022626,
     "end_time": "2023-06-05T17:32:51.133311",
     "exception": false,
     "start_time": "2023-06-05T17:32:51.110685",
     "status": "completed"
    },
    "tags": []
   },
   "outputs": [
    {
     "name": "stdout",
     "output_type": "stream",
     "text": [
      "/kaggle/input/titanic/train.csv\n",
      "/kaggle/input/titanic/test.csv\n",
      "/kaggle/input/titanic/gender_submission.csv\n"
     ]
    }
   ],
   "source": [
    "# This Python 3 environment comes with many helpful analytics libraries installed\n",
    "# It is defined by the kaggle/python Docker image: https://github.com/kaggle/docker-python\n",
    "# For example, here's several helpful packages to load\n",
    "\n",
    "import numpy as np # linear algebra\n",
    "import pandas as pd # data processing, CSV file I/O (e.g. pd.read_csv)\n",
    "\n",
    "# Input data files are available in the read-only \"../input/\" directory\n",
    "# For example, running this (by clicking run or pressing Shift+Enter) will list all files under the input directory\n",
    "\n",
    "import os\n",
    "for dirname, _, filenames in os.walk('/kaggle/input'):\n",
    "    for filename in filenames:\n",
    "        print(os.path.join(dirname, filename))\n",
    "\n",
    "# You can write up to 20GB to the current directory (/kaggle/working/) that gets preserved as output when you create a version using \"Save & Run All\" \n",
    "# You can also write temporary files to /kaggle/temp/, but they won't be saved outside of the current session"
   ]
  },
  {
   "cell_type": "code",
   "execution_count": 2,
   "id": "8cc75551",
   "metadata": {
    "execution": {
     "iopub.execute_input": "2023-06-05T17:32:51.142232Z",
     "iopub.status.busy": "2023-06-05T17:32:51.141608Z",
     "iopub.status.idle": "2023-06-05T17:32:51.187754Z",
     "shell.execute_reply": "2023-06-05T17:32:51.186655Z"
    },
    "papermill": {
     "duration": 0.053596,
     "end_time": "2023-06-05T17:32:51.190607",
     "exception": false,
     "start_time": "2023-06-05T17:32:51.137011",
     "status": "completed"
    },
    "tags": []
   },
   "outputs": [
    {
     "name": "stdout",
     "output_type": "stream",
     "text": [
      "   PassengerId  Survived  Pclass  \\\n",
      "0            1         0       3   \n",
      "1            2         1       1   \n",
      "2            3         1       3   \n",
      "3            4         1       1   \n",
      "4            5         0       3   \n",
      "\n",
      "                                                Name Sex   Age  SibSp  Parch  \\\n",
      "0                            Braund, Mr. Owen Harris   0  22.0      1      0   \n",
      "1  Cumings, Mrs. John Bradley (Florence Briggs Th...   1  38.0      1      0   \n",
      "2                             Heikkinen, Miss. Laina   1  26.0      0      0   \n",
      "3       Futrelle, Mrs. Jacques Heath (Lily May Peel)   1  35.0      1      0   \n",
      "4                           Allen, Mr. William Henry   0  35.0      0      0   \n",
      "\n",
      "             Ticket     Fare Cabin Embarked  \n",
      "0         A/5 21171   7.2500   NaN        S  \n",
      "1          PC 17599  71.2833   C85        C  \n",
      "2  STON/O2. 3101282   7.9250   NaN        S  \n",
      "3            113803  53.1000  C123        S  \n",
      "4            373450   8.0500   NaN        S  \n"
     ]
    }
   ],
   "source": [
    "train = pd.read_csv('/kaggle/input/titanic/train.csv')\n",
    "# One hot encoding\n",
    "train.loc[train[\"Sex\"] == \"male\", \"Sex\"] = 0\n",
    "train.loc[train[\"Sex\"] == \"female\", \"Sex\"] = 1\n",
    "\n",
    "print(train.head())"
   ]
  },
  {
   "cell_type": "code",
   "execution_count": 3,
   "id": "6c9dde02",
   "metadata": {
    "execution": {
     "iopub.execute_input": "2023-06-05T17:32:51.199103Z",
     "iopub.status.busy": "2023-06-05T17:32:51.198710Z",
     "iopub.status.idle": "2023-06-05T17:32:51.219235Z",
     "shell.execute_reply": "2023-06-05T17:32:51.217945Z"
    },
    "papermill": {
     "duration": 0.027295,
     "end_time": "2023-06-05T17:32:51.221521",
     "exception": false,
     "start_time": "2023-06-05T17:32:51.194226",
     "status": "completed"
    },
    "tags": []
   },
   "outputs": [
    {
     "name": "stdout",
     "output_type": "stream",
     "text": [
      "   PassengerId  Pclass                                          Name Sex  \\\n",
      "0          892       3                              Kelly, Mr. James   0   \n",
      "1          893       3              Wilkes, Mrs. James (Ellen Needs)   1   \n",
      "2          894       2                     Myles, Mr. Thomas Francis   0   \n",
      "3          895       3                              Wirz, Mr. Albert   0   \n",
      "4          896       3  Hirvonen, Mrs. Alexander (Helga E Lindqvist)   1   \n",
      "\n",
      "    Age  SibSp  Parch   Ticket     Fare Cabin Embarked  \n",
      "0  34.5      0      0   330911   7.8292   NaN        Q  \n",
      "1  47.0      1      0   363272   7.0000   NaN        S  \n",
      "2  62.0      0      0   240276   9.6875   NaN        Q  \n",
      "3  27.0      0      0   315154   8.6625   NaN        S  \n",
      "4  22.0      1      1  3101298  12.2875   NaN        S  \n"
     ]
    }
   ],
   "source": [
    "test = pd.read_csv('/kaggle/input/titanic/test.csv')\n",
    "test.loc[test[\"Sex\"] == \"male\", \"Sex\"] = 0\n",
    "test.loc[test[\"Sex\"] == \"female\", \"Sex\"] = 1\n",
    "print(test.head())"
   ]
  },
  {
   "cell_type": "code",
   "execution_count": 4,
   "id": "6e39b305",
   "metadata": {
    "execution": {
     "iopub.execute_input": "2023-06-05T17:32:51.230929Z",
     "iopub.status.busy": "2023-06-05T17:32:51.229867Z",
     "iopub.status.idle": "2023-06-05T17:32:52.959159Z",
     "shell.execute_reply": "2023-06-05T17:32:52.957823Z"
    },
    "papermill": {
     "duration": 1.736287,
     "end_time": "2023-06-05T17:32:52.961441",
     "exception": false,
     "start_time": "2023-06-05T17:32:51.225154",
     "status": "completed"
    },
    "tags": []
   },
   "outputs": [
    {
     "name": "stdout",
     "output_type": "stream",
     "text": [
      "[[ 0.         22.          7.25      ]\n",
      " [ 1.         38.         71.2833    ]\n",
      " [ 1.         26.          7.925     ]\n",
      " ...\n",
      " [ 1.         29.69911765 23.45      ]\n",
      " [ 0.         26.         30.        ]\n",
      " [ 0.         32.          7.75      ]]\n",
      "0      0\n",
      "1      1\n",
      "2      1\n",
      "3      1\n",
      "4      0\n",
      "      ..\n",
      "886    0\n",
      "887    1\n",
      "888    0\n",
      "889    1\n",
      "890    0\n",
      "Name: Survived, Length: 891, dtype: int64\n"
     ]
    }
   ],
   "source": [
    "# Extracting features from dataset\n",
    "x_train = train[[\"Sex\", \"Age\", \"Fare\"]]\n",
    "\n",
    "# Imputation\n",
    "from sklearn.impute import SimpleImputer\n",
    "imputer = SimpleImputer(missing_values = np.nan,strategy ='mean')\n",
    "imputer = imputer.fit(x_train)\n",
    "x_train = imputer.transform(x_train)\n",
    "print(x_train)\n",
    "\n",
    "# Extracting target from dataset\n",
    "y_train = train['Survived']\n",
    "print(y_train)"
   ]
  },
  {
   "cell_type": "code",
   "execution_count": 5,
   "id": "951f6931",
   "metadata": {
    "execution": {
     "iopub.execute_input": "2023-06-05T17:32:52.970300Z",
     "iopub.status.busy": "2023-06-05T17:32:52.969950Z",
     "iopub.status.idle": "2023-06-05T17:32:52.984838Z",
     "shell.execute_reply": "2023-06-05T17:32:52.983748Z"
    },
    "papermill": {
     "duration": 0.022096,
     "end_time": "2023-06-05T17:32:52.987217",
     "exception": false,
     "start_time": "2023-06-05T17:32:52.965121",
     "status": "completed"
    },
    "tags": []
   },
   "outputs": [
    {
     "name": "stdout",
     "output_type": "stream",
     "text": [
      "[[ 0.         34.5         7.8292    ]\n",
      " [ 1.         47.          7.        ]\n",
      " [ 0.         62.          9.6875    ]\n",
      " ...\n",
      " [ 0.         38.5         7.25      ]\n",
      " [ 0.         30.27259036  8.05      ]\n",
      " [ 0.         30.27259036 22.3583    ]]\n"
     ]
    }
   ],
   "source": [
    "# Extracting features from dataset\n",
    "x_test = test[[\"Sex\", \"Age\", \"Fare\"]]\n",
    "# Imputation\n",
    "from sklearn.impute import SimpleImputer\n",
    "imputer = SimpleImputer(missing_values = np.nan,strategy ='mean')\n",
    "imputer = imputer.fit(x_test)\n",
    "x_test = imputer.transform(x_test)\n",
    "print(x_test)"
   ]
  },
  {
   "cell_type": "code",
   "execution_count": 6,
   "id": "29b326a1",
   "metadata": {
    "execution": {
     "iopub.execute_input": "2023-06-05T17:32:52.996890Z",
     "iopub.status.busy": "2023-06-05T17:32:52.996079Z",
     "iopub.status.idle": "2023-06-05T17:33:19.952796Z",
     "shell.execute_reply": "2023-06-05T17:33:19.951671Z"
    },
    "papermill": {
     "duration": 26.964295,
     "end_time": "2023-06-05T17:33:19.955454",
     "exception": false,
     "start_time": "2023-06-05T17:32:52.991159",
     "status": "completed"
    },
    "tags": []
   },
   "outputs": [],
   "source": [
    "from sklearn.svm import SVC  \n",
    "clf = SVC(kernel='linear') \n",
    "clf.fit(x_train, y_train) \n",
    "y_pred = clf.predict(x_test)"
   ]
  },
  {
   "cell_type": "code",
   "execution_count": 7,
   "id": "b8d334a0",
   "metadata": {
    "execution": {
     "iopub.execute_input": "2023-06-05T17:33:19.964757Z",
     "iopub.status.busy": "2023-06-05T17:33:19.964377Z",
     "iopub.status.idle": "2023-06-05T17:33:19.992893Z",
     "shell.execute_reply": "2023-06-05T17:33:19.991664Z"
    },
    "papermill": {
     "duration": 0.035933,
     "end_time": "2023-06-05T17:33:19.995336",
     "exception": false,
     "start_time": "2023-06-05T17:33:19.959403",
     "status": "completed"
    },
    "tags": []
   },
   "outputs": [
    {
     "data": {
      "text/html": [
       "<div>\n",
       "<style scoped>\n",
       "    .dataframe tbody tr th:only-of-type {\n",
       "        vertical-align: middle;\n",
       "    }\n",
       "\n",
       "    .dataframe tbody tr th {\n",
       "        vertical-align: top;\n",
       "    }\n",
       "\n",
       "    .dataframe thead th {\n",
       "        text-align: right;\n",
       "    }\n",
       "</style>\n",
       "<table border=\"1\" class=\"dataframe\">\n",
       "  <thead>\n",
       "    <tr style=\"text-align: right;\">\n",
       "      <th></th>\n",
       "      <th>PassengerId</th>\n",
       "      <th>Survived</th>\n",
       "    </tr>\n",
       "  </thead>\n",
       "  <tbody>\n",
       "    <tr>\n",
       "      <th>0</th>\n",
       "      <td>892</td>\n",
       "      <td>0</td>\n",
       "    </tr>\n",
       "    <tr>\n",
       "      <th>1</th>\n",
       "      <td>893</td>\n",
       "      <td>1</td>\n",
       "    </tr>\n",
       "    <tr>\n",
       "      <th>2</th>\n",
       "      <td>894</td>\n",
       "      <td>0</td>\n",
       "    </tr>\n",
       "    <tr>\n",
       "      <th>3</th>\n",
       "      <td>895</td>\n",
       "      <td>0</td>\n",
       "    </tr>\n",
       "    <tr>\n",
       "      <th>4</th>\n",
       "      <td>896</td>\n",
       "      <td>1</td>\n",
       "    </tr>\n",
       "  </tbody>\n",
       "</table>\n",
       "</div>"
      ],
      "text/plain": [
       "   PassengerId  Survived\n",
       "0          892         0\n",
       "1          893         1\n",
       "2          894         0\n",
       "3          895         0\n",
       "4          896         1"
      ]
     },
     "execution_count": 7,
     "metadata": {},
     "output_type": "execute_result"
    }
   ],
   "source": [
    "submission = pd.DataFrame({\n",
    "        \"PassengerId\": test[\"PassengerId\"],\n",
    "        \"Survived\": y_pred\n",
    "    })\n",
    "\n",
    "submission.to_csv('submission.csv', index=False)\n",
    "submission = pd.read_csv('submission.csv')\n",
    "submission.head()"
   ]
  }
 ],
 "metadata": {
  "kernelspec": {
   "display_name": "Python 3",
   "language": "python",
   "name": "python3"
  },
  "language_info": {
   "codemirror_mode": {
    "name": "ipython",
    "version": 3
   },
   "file_extension": ".py",
   "mimetype": "text/x-python",
   "name": "python",
   "nbconvert_exporter": "python",
   "pygments_lexer": "ipython3",
   "version": "3.10.10"
  },
  "papermill": {
   "default_parameters": {},
   "duration": 41.678677,
   "end_time": "2023-06-05T17:33:20.920942",
   "environment_variables": {},
   "exception": null,
   "input_path": "__notebook__.ipynb",
   "output_path": "__notebook__.ipynb",
   "parameters": {},
   "start_time": "2023-06-05T17:32:39.242265",
   "version": "2.4.0"
  }
 },
 "nbformat": 4,
 "nbformat_minor": 5
}
